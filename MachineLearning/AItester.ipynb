{
 "cells": [
  {
   "cell_type": "code",
   "execution_count": 2,
   "metadata": {},
   "outputs": [],
   "source": [
    "import pandas as pd\n",
    "import joblib"
   ]
  },
  {
   "cell_type": "code",
   "execution_count": 3,
   "metadata": {},
   "outputs": [
    {
     "name": "stdout",
     "output_type": "stream",
     "text": [
      "[1 1 1 1 1 1 1 1 1]\n",
      "[1 1 1 1 1 1 1 1 1]\n"
     ]
    }
   ],
   "source": [
    "naive_bayes_model = joblib.load('naive_bayes_model.joblib')\n",
    "\n",
    "smv_model = joblib.load('svm_model.joblib')\n",
    "\n",
    "test_data = pd.DataFrame({\n",
    "    'Insider_Amount': [1,2,3,4,5,6,7,8,40], \n",
    "    'ΔOwn': [1,42,12,24,12,21,300,999,1],  \n",
    "    'SectorEncoded': [1,2,3,4,5,6,7,8,9]  \n",
    "})\n",
    "\n",
    "predictions = naive_bayes_model.predict(test_data)\n",
    "\n",
    "# Print or use the predictions as needed\n",
    "print(predictions)\n",
    "\n",
    "predictions = smv_model.predict(test_data)\n",
    "\n",
    "print(predictions)"
   ]
  }
 ],
 "metadata": {
  "kernelspec": {
   "display_name": "base",
   "language": "python",
   "name": "python3"
  },
  "language_info": {
   "codemirror_mode": {
    "name": "ipython",
    "version": 3
   },
   "file_extension": ".py",
   "mimetype": "text/x-python",
   "name": "python",
   "nbconvert_exporter": "python",
   "pygments_lexer": "ipython3",
   "version": "3.11.5"
  }
 },
 "nbformat": 4,
 "nbformat_minor": 2
}
